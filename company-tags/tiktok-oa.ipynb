{
 "cells": [
  {
   "cell_type": "code",
   "execution_count": 12,
   "metadata": {},
   "outputs": [],
   "source": [
    "# imports\n",
    "from typing import List\n",
    "from collections import Counter\n",
    "import heapq\n"
   ]
  },
  {
   "cell_type": "code",
   "execution_count": 13,
   "metadata": {},
   "outputs": [
    {
     "name": "stdout",
     "output_type": "stream",
     "text": [
      "[1, 2, 3, 9]\n",
      "16\n",
      "[2, 3, 5]\n",
      "21\n",
      "[1, 5, 8]\n",
      "19\n",
      "3\n",
      "0\n"
     ]
    }
   ],
   "source": [
    "\n",
    "# --- 11.23 ---\n",
    "class Solution:\n",
    "    def maxVideoProcessingPower(self, processingPower: List[int]):\n",
    "        \"\"\"\n",
    "        Calculate the maximum video processing power that can be achieved \n",
    "        given a list of processing power values. The function uses dynamic \n",
    "        programming to optimize the selection of processing powers while \n",
    "        ensuring that no two consecutive powers are chosen.\n",
    "\n",
    "        Parameters:\n",
    "        processingPower (List[int]): A list of integers representing the \n",
    "                                      processing power values.\n",
    "\n",
    "        Returns:\n",
    "        int: The maximum processing power that can be achieved.\n",
    "        \"\"\"\n",
    "        # Count the occurrences of each processing power\n",
    "        c = Counter(processingPower)  # (power, times)\n",
    "        \n",
    "        # Extract unique powers and sort them\n",
    "        powers = list(c.keys())\n",
    "        powers.sort()\n",
    "        \n",
    "        n = len(powers)  # Number of unique powers\n",
    "        dp = [0] * (n + 1)  # meaning of dp[i] is the max power can get from first i powers\n",
    "        \n",
    "        # Initialize the first element of dp\n",
    "        dp[1] = powers[0] * c[powers[0]]\n",
    "        \n",
    "        # Iterate through the sorted powers to fill the dp array\n",
    "        for i in range(1, n):\n",
    "            curPower = powers[i]\n",
    "            # If the current power is consecutive to the previous one\n",
    "            if powers[i - 1] == curPower - 1:\n",
    "                # Choose the maximum between not taking the current power \n",
    "                # or taking it and adding its contribution\n",
    "                dp[i + 1] = max(dp[i], dp[i - 1] + curPower * c[curPower])\n",
    "            else:\n",
    "                # If not consecutive, simply add the current power's contribution\n",
    "                dp[i + 1] = dp[i] + curPower * c[curPower]\n",
    "        \n",
    "        return dp[-1]  # Return the maximum processing power\n",
    "\n",
    "\n",
    "print(Solution().maxVideoProcessingPower([1, 3, 9, 2, 3]))\n",
    "print(Solution().maxVideoProcessingPower([3, 3, 5, 5, 2, 2, 5]))\n",
    "print(Solution().maxVideoProcessingPower([8, 5, 1, 5]))\n",
    "\n",
    "\n",
    "class Solution:\n",
    "    def maxGroups(\n",
    "        self,\n",
    "        creatorEngagementPower: List[int],\n",
    "        minCreatorRequired: int,\n",
    "        minTotalEngagementPowerRequired: int,\n",
    "    ):\n",
    "        res = 0\n",
    "        cur_sum = 0\n",
    "        cur_num = 0\n",
    "        for p in creatorEngagementPower:\n",
    "            cur_sum += p\n",
    "            cur_num += 1\n",
    "            if (\n",
    "                cur_sum >= minTotalEngagementPowerRequired\n",
    "                and cur_num >= minCreatorRequired\n",
    "            ):\n",
    "                res += 1\n",
    "                cur_num = 0\n",
    "                cur_sum = 0\n",
    "        return res\n",
    "\n",
    "\n",
    "print(Solution().maxGroups([4, 4, 3, 6, 4, 3, 5], 2, 8))\n",
    "print(Solution().maxGroups([5, 4, 3, 2, 1], 3, 20))"
   ]
  },
  {
   "cell_type": "code",
   "execution_count": 6,
   "metadata": {},
   "outputs": [
    {
     "name": "stdout",
     "output_type": "stream",
     "text": [
      "12\n",
      "13\n"
     ]
    }
   ],
   "source": [
    "\n",
    "# --- 11.16 - 11.20\n",
    "class Solution:\n",
    "    def getTotalImpact(self, initialReelImpacts:List[int], newReelImpacts:List[int], k:int):\n",
    "        min_heap = []\n",
    "        res = 0\n",
    "        for impact in initialReelImpacts:\n",
    "            if len(min_heap) < k:\n",
    "                heapq.heappush(min_heap, impact)\n",
    "            else:\n",
    "                heapq.heappushpop(min_heap, impact)\n",
    "        res += min_heap[0]\n",
    "\n",
    "        for impact in newReelImpacts:\n",
    "            if len(min_heap) < k:\n",
    "                heapq.heappush(min_heap, impact)\n",
    "            else:\n",
    "                if impact >= min_heap[0]:\n",
    "                    heapq.heappushpop(min_heap, impact)\n",
    "            res += min_heap[0]\n",
    "        return res\n",
    "\n",
    "print(Solution().getTotalImpact([2,2,4], [3,3,5],2))\n",
    "print(Solution().getTotalImpact([2,3], [4,5,1],2))\n",
    "\n",
    "class Solution:\n",
    "    def calculateMaxProcessingThroughput(serverTasks:List[int]):"
   ]
  },
  {
   "cell_type": "code",
   "execution_count": 10,
   "metadata": {},
   "outputs": [
    {
     "name": "stdout",
     "output_type": "stream",
     "text": [
      "Initial minimum_value: 1, maximum_value: 1\n",
      "Overall minimum: -1, Overall maximum: 3, DP array size: 5\n",
      "Initial previous_states: [1, 1, 1, 1, 1]\n",
      "Iteration 1, current_states: [0, 0, 3, 0, 0], previous_states: [1, 1, 1, 1, 1]\n",
      "Iteration 2, current_states: [0, 3, 3, 3, 0], previous_states: [0, 0, 3, 0, 0]\n",
      "Final result: 9\n",
      "9\n",
      "Initial minimum_value: 1, maximum_value: 1\n",
      "Overall minimum: -3, Overall maximum: 5, DP array size: 9\n",
      "Initial previous_states: [0, 0, 0, 0, 1, 0, 0, 0, 0]\n",
      "Iteration 1, current_states: [0, 0, 0, 1, 1, 1, 0, 0, 0], previous_states: [0, 0, 0, 0, 1, 0, 0, 0, 0]\n",
      "Iteration 2, current_states: [0, 0, 1, 2, 3, 2, 1, 0, 0], previous_states: [0, 0, 0, 1, 1, 1, 0, 0, 0]\n",
      "Iteration 3, current_states: [0, 1, 3, 6, 7, 6, 3, 1, 0], previous_states: [0, 0, 1, 2, 3, 2, 1, 0, 0]\n",
      "Iteration 4, current_states: [0, 0, 0, 0, 19, 0, 0, 0, 0], previous_states: [0, 1, 3, 6, 7, 6, 3, 1, 0]\n",
      "Final result: 19\n",
      "19\n",
      "Initial minimum_value: 1, maximum_value: 1\n",
      "Overall minimum: -3, Overall maximum: 5, DP array size: 9\n",
      "Initial previous_states: [0, 0, 0, 0, 1, 0, 0, 0, 0]\n",
      "Iteration 1, current_states: [0, 0, 0, 0, 1, 0, 0, 0, 0], previous_states: [0, 0, 0, 0, 1, 0, 0, 0, 0]\n",
      "Iteration 2, current_states: [0, 0, 0, 0, 1, 0, 0, 0, 0], previous_states: [0, 0, 0, 0, 1, 0, 0, 0, 0]\n",
      "Iteration 3, current_states: [0, 0, 0, 0, 1, 0, 0, 0, 0], previous_states: [0, 0, 0, 0, 1, 0, 0, 0, 0]\n",
      "Iteration 4, current_states: [0, 0, 0, 0, 1, 0, 0, 0, 0], previous_states: [0, 0, 0, 0, 1, 0, 0, 0, 0]\n",
      "Final result: 1\n",
      "1\n",
      "Initial minimum_value: inf, maximum_value: -inf\n",
      "0\n",
      "Initial minimum_value: 1, maximum_value: 2\n",
      "Overall minimum: -2, Overall maximum: 5, DP array size: 8\n",
      "Initial previous_states: [0, 0, 0, 1, 0, 0, 0, 0]\n",
      "Iteration 1, current_states: [0, 0, 1, 1, 1, 0, 0, 0], previous_states: [0, 0, 0, 1, 0, 0, 0, 0]\n",
      "Iteration 2, current_states: [0, 1, 2, 3, 2, 1, 0, 0], previous_states: [0, 0, 1, 1, 1, 0, 0, 0]\n",
      "Iteration 3, current_states: [0, 0, 0, 0, 6, 0, 0, 0], previous_states: [0, 1, 2, 3, 2, 1, 0, 0]\n",
      "Final result: 6\n",
      "6\n"
     ]
    }
   ],
   "source": [
    "class Solution:\n",
    "    def countGoodArrays(self, input_array):\n",
    "        MODULO = 1000000007  # Define a constant for modulo operation to prevent overflow\n",
    "        array_length = len(input_array)  # Get the length of the input array\n",
    "        minimum_value = float('inf')  # Initialize minimum value to positive infinity\n",
    "        maximum_value = float('-inf')  # Initialize maximum value to negative infinity\n",
    "        \n",
    "        # Loop through each number in the array to find min and max values\n",
    "        for element in input_array:\n",
    "            if element != 0:  # Only consider non-zero numbers\n",
    "                minimum_value = min(minimum_value, element)  # Update minimum_value if current number is smaller\n",
    "                maximum_value = max(maximum_value, element)  # Update maximum_value if current number is larger\n",
    "        print(f\"Initial minimum_value: {minimum_value}, maximum_value: {maximum_value}\")  # Print initial min and max values\n",
    "\n",
    "        # If no non-zero values were found, return 0\n",
    "        if minimum_value == float('inf'):\n",
    "            return 0\n",
    "        # If the range between maximum and minimum exceeds the number of elements minus one, return 0\n",
    "        if maximum_value - minimum_value > array_length - 1:\n",
    "            return 0\n",
    "\n",
    "        # Calculate overall minimum and maximum values considering the size of the array\n",
    "        overall_minimum = minimum_value - (array_length - 1)  # Adjust minimum_value downwards\n",
    "        overall_maximum = maximum_value + (array_length - 1)  # Adjust maximum_value upwards\n",
    "        value_offset = -overall_minimum  # Calculate offset for mapping values to the DP array\n",
    "        dp_array_size = overall_maximum - overall_minimum + 1  # Determine the size of the DP array\n",
    "        print(f\"Overall minimum: {overall_minimum}, Overall maximum: {overall_maximum}, DP array size: {dp_array_size}\")  # Print overall min, max, and DP size\n",
    "\n",
    "        previous_states = [0] * dp_array_size  # Initialize previous DP array\n",
    "        current_states = [0] * dp_array_size  # Initialize current DP array\n",
    "        # Handle the first element of the array\n",
    "        if input_array[0] == 0:\n",
    "            for index in range(dp_array_size):\n",
    "                previous_states[index] = 1  # If the first element is 0, all previous states are valid\n",
    "        else:\n",
    "            mapped_index = input_array[0] + value_offset  # Map the first element to the DP array\n",
    "            if 0 <= mapped_index < dp_array_size:\n",
    "                previous_states[mapped_index] = 1  # Mark the mapped value as valid\n",
    "            else:\n",
    "                return 0  # If out of bounds, return 0\n",
    "\n",
    "        print(f\"Initial previous_states: {previous_states}\")  # Print the initial state of the previous DP array\n",
    "\n",
    "        # Iterate through the array starting from the second element\n",
    "        for i in range(1, array_length):\n",
    "            for index in range(dp_array_size):\n",
    "                current_states[index] = 0  # Reset current DP array for this iteration\n",
    "            if input_array[i] == 0:  # If the current element is 0\n",
    "                for index in range(dp_array_size):\n",
    "                    if previous_states[index] > 0:  # If there are valid previous states\n",
    "                        for change in (-1, 0, 1):  # Check for changes in the state\n",
    "                            new_index = index + change  # Calculate the new mapped value\n",
    "                            if 0 <= new_index < dp_array_size:  # Ensure it's within bounds\n",
    "                                current_states[new_index] = (current_states[new_index] + previous_states[index]) % MODULO  # Update current state\n",
    "            else:  # If the current element is not 0\n",
    "                current_element_value = input_array[i] + value_offset  # Map the current element\n",
    "                if not (0 <= current_element_value < dp_array_size):\n",
    "                    return 0  # If out of bounds, return 0\n",
    "                total_valid_states = 0  # Initialize total for valid previous states\n",
    "                for previous_index in (current_element_value - 1, current_element_value, current_element_value + 1):  # Check adjacent states\n",
    "                    if 0 <= previous_index < dp_array_size:  # Ensure within bounds\n",
    "                        total_valid_states = (total_valid_states + previous_states[previous_index]) % MODULO  # Sum valid previous states\n",
    "                current_states[current_element_value] = total_valid_states  # Update the current state with the total\n",
    "            \n",
    "            print(f\"Iteration {i}, current_states: {current_states}, previous_states: {previous_states}\")  # Print current and previous states\n",
    "            previous_states, current_states = current_states, previous_states  # Move current to previous for the next iteration\n",
    "\n",
    "        # Final result calculation based on the last element of the array\n",
    "        if input_array[-1] == 0:\n",
    "            final_result = sum(previous_states) % MODULO  # Sum all valid states if last element is 0\n",
    "        else:\n",
    "            mapped_index = input_array[-1] + value_offset  # Map the last element\n",
    "            if 0 <= mapped_index < dp_array_size:\n",
    "                final_result = previous_states[mapped_index] % MODULO  # Get the result from previous states\n",
    "            else:\n",
    "                return 0  # If out of bounds, return 0\n",
    "\n",
    "        print(f\"Final result: {final_result}\")  # Print the final result\n",
    "        return final_result  # Return the final result\n",
    "\n",
    "print(Solution().countGoodArrays([0,1,0]))\n",
    "print(Solution().countGoodArrays([1,0,0,0,1]))\n",
    "print(Solution().countGoodArrays([1,1,1,1,1]))\n",
    "print(Solution().countGoodArrays([0, 0, 0, 0, 0]))\n",
    "print(Solution().countGoodArrays([1,0,0,2]))"
   ]
  },
  {
   "cell_type": "code",
   "execution_count": 64,
   "metadata": {},
   "outputs": [],
   "source": [
    "from typing import List\n",
    "def getTopKViralPosts(n:int, activityIndex: List[int], k:int):\n",
    "    def getBinary(num:int):\n",
    "        bin_str = bin(num)\n",
    "        return [s for s in bin_str[2:]]\n",
    "    \n",
    "    def getSpikeSpread(nums:List[int]):\n",
    "        slow = 0\n",
    "        fast = 1\n",
    "        res = -1\n",
    "        while fast < len(nums):\n",
    "            if nums[fast] == '1':\n",
    "                res = max(res, fast - slow - 1)\n",
    "                slow = fast\n",
    "            fast += 1\n",
    "        return res\n",
    "    \n",
    "    scores = [(getSpikeSpread(getBinary(i)), i) for i in activityIndex]\n",
    "    scores.sort(key=lambda x: (x[0], x[1]), reverse=True)\n",
    "    res = [j for (i,j) in scores[:k]]\n",
    "    return res"
   ]
  },
  {
   "cell_type": "code",
   "execution_count": 65,
   "metadata": {},
   "outputs": [
    {
     "name": "stdout",
     "output_type": "stream",
     "text": [
      "[9, 11, 7]\n",
      "[5]\n"
     ]
    }
   ],
   "source": [
    "print(getTopKViralPosts(5, [11,3,4,9,7], 3))\n",
    "print(getTopKViralPosts(3, [3,5,8], 1))"
   ]
  },
  {
   "cell_type": "code",
   "execution_count": 60,
   "metadata": {},
   "outputs": [],
   "source": [
    "def maximizeCreatorSupport(impactValue:List[int]):\n",
    "    non_neg_sum = 0\n",
    "    non_neg_counter = 0\n",
    "    neg = []\n",
    "    for v in impactValue:\n",
    "        if v >= 0:\n",
    "            non_neg_sum += v\n",
    "            non_neg_counter += 1\n",
    "        else:\n",
    "            neg.append(v)\n",
    "    neg.sort(reverse=True)\n",
    "    res = non_neg_counter\n",
    "    for v in neg:\n",
    "        non_neg_sum += v\n",
    "        if non_neg_sum > 0:\n",
    "            res += 1\n",
    "        else:\n",
    "            break\n",
    "    return res"
   ]
  },
  {
   "cell_type": "code",
   "execution_count": 61,
   "metadata": {},
   "outputs": [
    {
     "name": "stdout",
     "output_type": "stream",
     "text": [
      "3\n",
      "4\n"
     ]
    }
   ],
   "source": [
    "print(maximizeCreatorSupport([2,-4,1,1]))\n",
    "print(maximizeCreatorSupport([3,2,5,-4,-6,-10]))"
   ]
  },
  {
   "cell_type": "markdown",
   "metadata": {},
   "source": [
    "## 250125"
   ]
  },
  {
   "cell_type": "code",
   "execution_count": 2,
   "metadata": {},
   "outputs": [],
   "source": [
    "import functools\n",
    "from typing import List \n",
    "\n",
    "def checkSimilarPasswords(n:int, password_attempts:List[str], stored_passwords:List[str]):\n",
    "    \n",
    "    @functools.lru_cache(None)\n",
    "    def recur(a:str, s:str) -> bool:\n",
    "        if a == s:\n",
    "            return True\n",
    "        else:\n",
    "            if len(a) != len(s) or len(a) % 2 != 0:\n",
    "                return False\n",
    "            mid = len(a) // 2\n",
    "            a_half_1, a_half_2 = a[:mid], a[mid:]\n",
    "            s_half_1, s_half_2 = s[:mid], s[mid:]\n",
    "            is_same = recur(a_half_1, s_half_1) and recur(a_half_2, s_half_2)\n",
    "            is_same = is_same or (recur(a_half_1, s_half_2) and recur(a_half_2, s_half_1)) \n",
    "            return is_same\n",
    "\n",
    "    return [1 if recur(a,s) else 0 for a,s in zip(password_attempts, stored_passwords)]"
   ]
  },
  {
   "cell_type": "code",
   "execution_count": 3,
   "metadata": {},
   "outputs": [
    {
     "data": {
      "text/plain": [
       "[1]"
      ]
     },
     "execution_count": 3,
     "metadata": {},
     "output_type": "execute_result"
    }
   ],
   "source": [
    "checkSimilarPasswords(1, ['abcd'], ['dcab'])"
   ]
  },
  {
   "cell_type": "code",
   "execution_count": 4,
   "metadata": {},
   "outputs": [
    {
     "data": {
      "text/plain": [
       "[1, 0]"
      ]
     },
     "execution_count": 4,
     "metadata": {},
     "output_type": "execute_result"
    }
   ],
   "source": [
    "checkSimilarPasswords(2, ['ab', 'pq'], ['ba', 'rs'])"
   ]
  },
  {
   "cell_type": "code",
   "execution_count": 7,
   "metadata": {},
   "outputs": [],
   "source": [
    "MOD = 10**9 + 7\n",
    "class UnionFind:\n",
    "    def __init__(self, n):\n",
    "        self.parent = list(range(n))\n",
    "        self.size = [1]*n\n",
    "    def find(self, x):\n",
    "        if self.parent[x] != x:\n",
    "            self.parent[x] = self.find(self.parent[x])\n",
    "        return self.parent[x]\n",
    "    \n",
    "    def union(self, a, b):\n",
    "        rootA = self.find(a)\n",
    "        rootB = self.find(b)\n",
    "        if rootA != rootB:\n",
    "            if self.size[rootA] < self.size[rootB]:\n",
    "                rootA, rootB = rootB, rootA\n",
    "            self.parent[rootB] = rootA\n",
    "            self.size[rootA] += self.size[rootB]\n",
    "def countViralPaths(k, category_nodes, category_from, category_to, viral_val):\n",
    "    uf = UnionFind(category_nodes)\n",
    "    for i in range(category_nodes - 1):\n",
    "        if viral_val[i] == 0:\n",
    "            uf.union(category_from[i], category_to[i])\n",
    "    comp_size = {}\n",
    "    for node in range(category_nodes):\n",
    "        root = uf.find(node)\n",
    "        comp_size[root] = comp_size.get(root, 0) + 1\n",
    "    s = 0\n",
    "    print(comp_size)\n",
    "    for root, sz in comp_size.items():\n",
    "        s = (s + pow(sz, k, MOD)) % MOD\n",
    "    print(s)\n",
    "    total = pow(category_nodes, k, MOD)\n",
    "    ans = (total - s) % MOD\n",
    "    return ans"
   ]
  },
  {
   "cell_type": "code",
   "execution_count": 8,
   "metadata": {},
   "outputs": [
    {
     "name": "stdout",
     "output_type": "stream",
     "text": [
      "{0: 3, 3: 1}\n",
      "10\n"
     ]
    },
    {
     "data": {
      "text/plain": [
       "6"
      ]
     },
     "execution_count": 8,
     "metadata": {},
     "output_type": "execute_result"
    }
   ],
   "source": [
    "countViralPaths(2, 4, [0,0,2], [1,2,3], [0,0,1])"
   ]
  },
  {
   "cell_type": "code",
   "execution_count": 1,
   "metadata": {},
   "outputs": [],
   "source": [
    "class UnionFind:\n",
    "    def __init__(self, n):\n",
    "        self.parents = list(range(n))\n",
    "        self.size = [1] * n\n",
    "    def find(self, node):\n",
    "        p = self.parents[node]\n",
    "        if p == node:\n",
    "            return p\n",
    "        else:\n",
    "            self.parents[node] = self.find(self.parents[node])\n",
    "            return self.parents[node]\n",
    "    def union(self, nodeA, nodeB):\n",
    "        rootA = self.find(nodeA)\n",
    "        rootB = self.find(nodeB)\n",
    "        if rootA == rootB:\n",
    "            return\n",
    "        else:\n",
    "            sizeA = self.size[rootA]\n",
    "            sizeB = self.size[rootB]\n",
    "            if sizeB > sizeA:\n",
    "                rootA, rootB = rootB, rootA\n",
    "            self.parents[rootB] = rootA\n",
    "            self.size[rootA] += self.size[rootB]\n",
    "        return\n",
    "    \n",
    "MOD = 10**9 + 7\n",
    "def countViralPaths(k, category_nodes, category_from, category_to, viral_val):\n",
    "    union_find = UnionFind(category_nodes)\n",
    "    \n",
    "    # iterate through all edges, union all 0-paths nodes into a group\n",
    "    for i in range(category_nodes-1):\n",
    "        if viral_val[i] == 0:\n",
    "            union_find.union(category_from[i], category_to[i])\n",
    "    \n",
    "    # find size of each group of nodes\n",
    "    sizes = {}\n",
    "    for i in range(category_nodes):\n",
    "        root = union_find.find(i)\n",
    "        sizes[root] = sizes.get(root,0) + 1\n",
    "    \n",
    "    # possible combination for all 0 paths\n",
    "    n_comb_zero = 0\n",
    "    for key in sizes.keys():\n",
    "        n_comb_zero = (n_comb_zero + sizes[key] ** k % MOD) % MOD\n",
    "    \n",
    "    # possible combination including all edges\n",
    "    n_comb_all = category_nodes ** k % MOD\n",
    "    return n_comb_all - n_comb_zero\n",
    "        \n"
   ]
  },
  {
   "cell_type": "code",
   "execution_count": 3,
   "metadata": {},
   "outputs": [
    {
     "data": {
      "text/plain": [
       "6"
      ]
     },
     "execution_count": 3,
     "metadata": {},
     "output_type": "execute_result"
    }
   ],
   "source": [
    "countViralPaths(2, 4, [0,0,2], [1,2,3], [0,0,1])"
   ]
  }
 ],
 "metadata": {
  "kernelspec": {
   "display_name": "myenv",
   "language": "python",
   "name": "python3"
  },
  "language_info": {
   "codemirror_mode": {
    "name": "ipython",
    "version": 3
   },
   "file_extension": ".py",
   "mimetype": "text/x-python",
   "name": "python",
   "nbconvert_exporter": "python",
   "pygments_lexer": "ipython3",
   "version": "3.10.14"
  }
 },
 "nbformat": 4,
 "nbformat_minor": 2
}
